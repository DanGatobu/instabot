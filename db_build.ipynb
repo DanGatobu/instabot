{
 "cells": [
  {
   "cell_type": "code",
   "execution_count": 2,
   "metadata": {},
   "outputs": [],
   "source": [
    "import pymongo\n",
    "from pymongo import MongoClient"
   ]
  },
  {
   "cell_type": "code",
   "execution_count": 3,
   "metadata": {},
   "outputs": [],
   "source": [
    "client=MongoClient('mongodb://localhost:27017/')\n",
    "db=client['pyinsta']\n",
    "\n"
   ]
  },
  {
   "cell_type": "code",
   "execution_count": 1,
   "metadata": {},
   "outputs": [],
   "source": [
    "def save_growaccount(username,password):\n",
    "    growaccount=db['growaccounts']\n",
    "    growaccount.insert_one({'main_username':username,'password':password})\n",
    "    \n",
    "\n",
    "    \n",
    "    \n",
    "def save_followaccount(username,main_username):\n",
    "    followdetails=db['followaccounts']\n",
    "    followdetails.insert_one({'username':username,'main_username':main_username})\n",
    "    \n",
    "\n",
    "def followlimit(main_username,limit):\n",
    "    followlimit=db['followlimit']\n",
    "    followlimit.insert_one({'main_username':main_username,'limit':limit})\n",
    "\n",
    "def unfollowlimit(main_username,limit):\n",
    "    unfollowlimit=db['unfollowlimit']\n",
    "    unfollowlimit.insert_one({'main_username':main_username,'limit':limit})\n",
    "    \n",
    "def imagefolder(main_username,foldername):\n",
    "    imagefolder=db['imagefolder']\n",
    "    imagefolder.insert_one({'main_username':main_username,'foldername':foldername})\n",
    "    \n",
    "\n",
    "def update_followlimit(main_username,limit):\n",
    "    followlimit=db['followlimit']\n",
    "    followlimit.update_one({'main_username':main_username},{'$set':{'limit':limit}})\n",
    "    \n",
    "def update_unfollowlimit(main_username,limit):\n",
    "    unfollowlimit=db['unfollowlimit']\n",
    "    unfollowlimit.update_one({'main_username':main_username},{'$set':{'limit':limit}})\n",
    "    \n",
    "def update_imagefolder(main_username,foldername):\n",
    "    imagefolder=db['imagefolder']\n",
    "    imagefolder.update_one({'main_username':main_username},{'$set':{'foldername':foldername}})\n",
    "    \n",
    "def delete_followaccount(username):\n",
    "    followdetails=db['followaccounts']\n",
    "    followdetails.delete_one({'username':username})\n",
    "    \n",
    "\n",
    "def initialize_followcount(main_username):\n",
    "    followcount=db['followcounter']\n",
    "    followcount.insert_one({'main_username':main_username,'count':0})\n",
    "    \n",
    "    \n",
    "def image_tracker(main_username,imagelink):\n",
    "    imagetracker=db['imagetracker']\n",
    "    imagetracker.insert_one({'main_username':main_username,'imagelink':imagelink})\n",
    "    \n",
    "    \n",
    "def save_caption(main_username,caption):\n",
    "    captiondetails=db['captions']\n",
    "    captiondetails.insert_one({'main_username':main_username,'caption':caption})\n",
    "    \n",
    "def delete_caption(main_username,caption):\n",
    "    captiondetails=db['captions']\n",
    "    captiondetails.delete_one({'main_username':main_username,'caption':caption})\n",
    "    "
   ]
  },
  {
   "cell_type": "code",
   "execution_count": 3,
   "metadata": {},
   "outputs": [],
   "source": [
    "import os"
   ]
  },
  {
   "cell_type": "code",
   "execution_count": 8,
   "metadata": {},
   "outputs": [],
   "source": [
    "images=os.listdir(r'C:\\Users\\DELL\\Desktop\\cars')\n",
    "h=''\n",
    "\n",
    "for imag in images:\n",
    "    if imag=='brad-starkey-MBr7At_KxxM-unsplash.jpg':\n",
    "        imagelink=os.path.join(r'C:\\Users\\DELL\\Desktop\\cars',imag)\n",
    "        h=imagelink\n",
    "        break\n",
    "        \n"
   ]
  },
  {
   "cell_type": "code",
   "execution_count": 6,
   "metadata": {},
   "outputs": [
    {
     "name": "stdout",
     "output_type": "stream",
     "text": [
      "phil_rsrx\n"
     ]
    },
    {
     "ename": "TypeError",
     "evalue": "string indices must be integers",
     "output_type": "error",
     "traceback": [
      "\u001b[1;31m---------------------------------------------------------------------------\u001b[0m",
      "\u001b[1;31mTypeError\u001b[0m                                 Traceback (most recent call last)",
      "Cell \u001b[1;32mIn[6], line 17\u001b[0m\n\u001b[0;32m     14\u001b[0m     \u001b[38;5;28;01mfor\u001b[39;00m account \u001b[38;5;129;01min\u001b[39;00m growaccounts:\n\u001b[0;32m     15\u001b[0m         \u001b[38;5;28mprint\u001b[39m(account[\u001b[38;5;124m'\u001b[39m\u001b[38;5;124mpassword\u001b[39m\u001b[38;5;124m'\u001b[39m])\n\u001b[1;32m---> 17\u001b[0m \u001b[43mfetch_growaccounts\u001b[49m\u001b[43m(\u001b[49m\u001b[38;5;124;43m'\u001b[39;49m\u001b[38;5;124;43mc.ar.lover\u001b[39;49m\u001b[38;5;124;43m'\u001b[39;49m\u001b[43m)\u001b[49m\n",
      "Cell \u001b[1;32mIn[6], line 15\u001b[0m, in \u001b[0;36mfetch_growaccounts\u001b[1;34m(mainusername)\u001b[0m\n\u001b[0;32m     13\u001b[0m growaccounts\u001b[38;5;241m=\u001b[39mgrowaccount\u001b[38;5;241m.\u001b[39mfind_one({\u001b[38;5;124m'\u001b[39m\u001b[38;5;124mmain_username\u001b[39m\u001b[38;5;124m'\u001b[39m:mainusername})\n\u001b[0;32m     14\u001b[0m \u001b[38;5;28;01mfor\u001b[39;00m account \u001b[38;5;129;01min\u001b[39;00m growaccounts:\n\u001b[1;32m---> 15\u001b[0m     \u001b[38;5;28mprint\u001b[39m(\u001b[43maccount\u001b[49m\u001b[43m[\u001b[49m\u001b[38;5;124;43m'\u001b[39;49m\u001b[38;5;124;43mpassword\u001b[39;49m\u001b[38;5;124;43m'\u001b[39;49m\u001b[43m]\u001b[49m)\n",
      "\u001b[1;31mTypeError\u001b[0m: string indices must be integers"
     ]
    }
   ],
   "source": [
    "#testing  follow acounts fetch\n",
    "def fetch_followaccounts(main_username):\n",
    "    followdetails=db['followaccounts']\n",
    "    followaccounts=followdetails.find({'main_username':main_username})\n",
    "    for account in followaccounts:\n",
    "        print(account['username'])\n",
    "        \n",
    "fetch_followaccounts('c.ar.lover')\n",
    "\n",
    "#fetch grow accounts password\n",
    "def fetch_growaccounts(mainusername):\n",
    "    growaccount=db['growaccounts']\n",
    "    growaccounts=growaccount.find_one({'main_username':mainusername})\n",
    "    for account in growaccounts:\n",
    "        print(account['password'])\n",
    "        \n",
    "fetch_growaccounts('c.ar.lover')\n",
    "        "
   ]
  },
  {
   "cell_type": "code",
   "execution_count": 10,
   "metadata": {},
   "outputs": [],
   "source": [
    "import time\n",
    "import pyautogui\n",
    "\n",
    "\n"
   ]
  },
  {
   "cell_type": "code",
   "execution_count": 7,
   "metadata": {},
   "outputs": [
    {
     "name": "stdout",
     "output_type": "stream",
     "text": [
      "dannewton2002\n"
     ]
    }
   ],
   "source": [
    "f=db['growaccounts'].find_one({'main_username':'c.ar.lover'})\n",
    "print(f['password'])"
   ]
  },
  {
   "cell_type": "code",
   "execution_count": 13,
   "metadata": {},
   "outputs": [],
   "source": [
    "time.sleep(15)\n",
    "\n",
    "pyautogui.write(h)\n",
    "pyautogui.press('enter')"
   ]
  },
  {
   "cell_type": "code",
   "execution_count": 1,
   "metadata": {},
   "outputs": [],
   "source": [
    "def detailcheck(main_username):\n",
    "    followlimit=db['followlimit']\n",
    "    unfollowlimit=db['unfollowlimit']\n",
    "    imagefolder=db['imagefolder']\n",
    "    followcount=db['followcount']\n",
    "    imagetracker=db['imagetracker']\n",
    "    captiondetails=db['captions']\n",
    "    followlimit=followlimit.find_one({'main_username':main_username})\n",
    "    unfollowlimit=unfollowlimit.find_one({'main_username':main_username})\n",
    "    imagefolder=imagefolder.find_one({'main_username':main_username})\n",
    "    followcount=followcount.find_one({'main_username':main_username})\n",
    "    imagetracker=imagetracker.find_one({'main_username':main_username})\n",
    "    captiondetails=captiondetails.find_one({'main_username':main_username})\n",
    "    if followlimit is None or unfollowlimit is None or imagefolder is None or followcount is None or imagetracker is None or captiondetails is None:\n",
    "        return False\n",
    "    else:\n",
    "        return True\n",
    "    \n",
    "    "
   ]
  },
  {
   "cell_type": "code",
   "execution_count": null,
   "metadata": {},
   "outputs": [],
   "source": []
  }
 ],
 "metadata": {
  "kernelspec": {
   "display_name": "pyinsta",
   "language": "python",
   "name": "python3"
  },
  "language_info": {
   "codemirror_mode": {
    "name": "ipython",
    "version": 3
   },
   "file_extension": ".py",
   "mimetype": "text/x-python",
   "name": "python",
   "nbconvert_exporter": "python",
   "pygments_lexer": "ipython3",
   "version": "3.10.13"
  }
 },
 "nbformat": 4,
 "nbformat_minor": 2
}
